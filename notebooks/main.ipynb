{
 "cells": [
  {
   "cell_type": "markdown",
   "metadata": {},
   "source": [
    "## Data Load"
   ]
  },
  {
   "cell_type": "code",
   "execution_count": 2,
   "metadata": {},
   "outputs": [],
   "source": [
    "import pandas as pd"
   ]
  },
  {
   "cell_type": "code",
   "execution_count": 3,
   "metadata": {},
   "outputs": [
    {
     "data": {
      "text/html": [
       "<div>\n",
       "<style scoped>\n",
       "    .dataframe tbody tr th:only-of-type {\n",
       "        vertical-align: middle;\n",
       "    }\n",
       "\n",
       "    .dataframe tbody tr th {\n",
       "        vertical-align: top;\n",
       "    }\n",
       "\n",
       "    .dataframe thead th {\n",
       "        text-align: right;\n",
       "    }\n",
       "</style>\n",
       "<table border=\"1\" class=\"dataframe\">\n",
       "  <thead>\n",
       "    <tr style=\"text-align: right;\">\n",
       "      <th></th>\n",
       "      <th>comment</th>\n",
       "      <th>toxic</th>\n",
       "    </tr>\n",
       "  </thead>\n",
       "  <tbody>\n",
       "    <tr>\n",
       "      <th>0</th>\n",
       "      <td>Верблюдов-то за что? Дебилы, бл...\\n</td>\n",
       "      <td>1.0</td>\n",
       "    </tr>\n",
       "    <tr>\n",
       "      <th>1</th>\n",
       "      <td>Хохлы, это отдушина затюканого россиянина, мол...</td>\n",
       "      <td>1.0</td>\n",
       "    </tr>\n",
       "    <tr>\n",
       "      <th>2</th>\n",
       "      <td>Собаке - собачья смерть\\n</td>\n",
       "      <td>1.0</td>\n",
       "    </tr>\n",
       "    <tr>\n",
       "      <th>3</th>\n",
       "      <td>Страницу обнови, дебил. Это тоже не оскорблени...</td>\n",
       "      <td>1.0</td>\n",
       "    </tr>\n",
       "    <tr>\n",
       "      <th>4</th>\n",
       "      <td>тебя не убедил 6-страничный пдф в том, что Скр...</td>\n",
       "      <td>1.0</td>\n",
       "    </tr>\n",
       "  </tbody>\n",
       "</table>\n",
       "</div>"
      ],
      "text/plain": [
       "                                             comment  toxic\n",
       "0               Верблюдов-то за что? Дебилы, бл...\\n    1.0\n",
       "1  Хохлы, это отдушина затюканого россиянина, мол...    1.0\n",
       "2                          Собаке - собачья смерть\\n    1.0\n",
       "3  Страницу обнови, дебил. Это тоже не оскорблени...    1.0\n",
       "4  тебя не убедил 6-страничный пдф в том, что Скр...    1.0"
      ]
     },
     "execution_count": 3,
     "metadata": {},
     "output_type": "execute_result"
    }
   ],
   "source": [
    "data = pd.read_csv(\"../data/dataset.csv\")\n",
    "data.head()"
   ]
  },
  {
   "cell_type": "code",
   "execution_count": 4,
   "metadata": {},
   "outputs": [
    {
     "name": "stdout",
     "output_type": "stream",
     "text": [
      "<class 'pandas.core.frame.DataFrame'>\n",
      "RangeIndex: 14412 entries, 0 to 14411\n",
      "Data columns (total 2 columns):\n",
      " #   Column   Non-Null Count  Dtype  \n",
      "---  ------   --------------  -----  \n",
      " 0   comment  14412 non-null  object \n",
      " 1   toxic    14412 non-null  float64\n",
      "dtypes: float64(1), object(1)\n",
      "memory usage: 225.3+ KB\n"
     ]
    }
   ],
   "source": [
    "data.info()"
   ]
  },
  {
   "cell_type": "markdown",
   "metadata": {},
   "source": [
    "## EDA"
   ]
  },
  {
   "cell_type": "code",
   "execution_count": 148,
   "metadata": {},
   "outputs": [],
   "source": [
    "from collections import Counter\n",
    "import ipywidgets as widgets\n",
    "import matplotlib.pyplot as plt\n",
    "import seaborn as sns\n",
    "from wordcloud import WordCloud\n",
    "import warnings\n",
    "\n",
    "sns.set(style=\"whitegrid\", palette='Dark2')\n",
    "warnings.filterwarnings(\"ignore\")"
   ]
  },
  {
   "cell_type": "code",
   "execution_count": 6,
   "metadata": {},
   "outputs": [
    {
     "name": "stderr",
     "output_type": "stream",
     "text": [
      "[nltk_data] Downloading package stopwords to\n",
      "[nltk_data]     /Users/pavelkockin/nltk_data...\n",
      "[nltk_data]   Package stopwords is already up-to-date!\n"
     ]
    }
   ],
   "source": [
    "import nltk\n",
    "nltk.download('stopwords')\n",
    "STOPWORDS = nltk.corpus.stopwords.words(\"russian\")"
   ]
  },
  {
   "cell_type": "code",
   "execution_count": 7,
   "metadata": {},
   "outputs": [],
   "source": [
    "vc = data[\"toxic\"].value_counts()\n",
    "labels = [\"Not Toxic\", \"Toxic\"]"
   ]
  },
  {
   "cell_type": "code",
   "execution_count": 8,
   "metadata": {},
   "outputs": [
    {
     "data": {
      "text/plain": [
       "<AxesSubplot:>"
      ]
     },
     "execution_count": 8,
     "metadata": {},
     "output_type": "execute_result"
    },
    {
     "data": {
      "image/png": "[encoded data removed]",
      "text/plain": [
       "<Figure size 640x480 with 1 Axes>"
      ]
     },
     "metadata": {},
     "output_type": "display_data"
    }
   ],
   "source": [
    "sns.barplot(x=labels, y=vc.values)"
   ]
  },
  {
   "cell_type": "code",
   "execution_count": 9,
   "metadata": {},
   "outputs": [
    {
     "data": {
      "application/vnd.jupyter.widget-view+json": {
       "model_id": "6a0f169b85e84c1c9751ab8bd723156a",
       "version_major": 2,
       "version_minor": 0
      },
      "text/plain": [
       "interactive(children=(Dropdown(description='label', index=1, options=(0, 1), value=1), Output()), _dom_classes…"
      ]
     },
     "metadata": {},
     "output_type": "display_data"
    }
   ],
   "source": [
    "# Most frequent tokens for each tag\n",
    "@widgets.interact(label=[0, 1])\n",
    "def display_word_cloud(label: int = 1):\n",
    "    plt.figure(figsize=(15, 5))\n",
    "    subset = data[data[\"toxic\"] == label]\n",
    "    text = subset[\"comment\"].values\n",
    "    cloud = WordCloud(\n",
    "        stopwords=STOPWORDS+['это'], background_color=\"white\", collocations=False,\n",
    "        width=500, height=300).generate(\" \".join(text)\n",
    "    )\n",
    "    plt.axis(\"off\")\n",
    "    plt.imshow(cloud)"
   ]
  },
  {
   "cell_type": "markdown",
   "metadata": {},
   "source": [
    "## Preprocessing"
   ]
  },
  {
   "cell_type": "code",
   "execution_count": 10,
   "metadata": {},
   "outputs": [],
   "source": [
    "from nltk.stem.snowball import SnowballStemmer \n",
    "import re\n",
    "\n",
    "stemmer = SnowballStemmer(\"russian\") "
   ]
  },
  {
   "cell_type": "code",
   "execution_count": 20,
   "metadata": {},
   "outputs": [],
   "source": [
    "from typing import List\n",
    "def clean_text(text: str, lower: bool = True, stem: bool = False, stopwords: List[str] = STOPWORDS) -> str:\n",
    "    \"\"\"Clean raw data\"\"\"\n",
    "    \n",
    "    # Lower\n",
    "    if lower:\n",
    "        text = text.lower()\n",
    "    \n",
    "    # Remove stopwords\n",
    "    if len(STOPWORDS):\n",
    "        pattern = re.compile(r'\\b(' + r\"|\".join(STOPWORDS) + r\")\\b\\s*\")\n",
    "        text = pattern.sub('', text)\n",
    "    \n",
    "    # Spacing and filters\n",
    "    text = re.sub(\n",
    "        r\"([!\\\"'#$%&()*\\+,-./:;<=>?@\\\\\\[\\]^_`{|}~])\", r\" \\1 \", text\n",
    "    )  # add spacing between objects to be filtered\n",
    "    text = re.sub(\"[^А-Яа-яA-Za-z0-9]+\", \" \", text)  # remove non alphanumeric\n",
    "    text = re.sub(\" +\", \" \", text)  # remove multiple spaces\n",
    "    text = text.strip()  # strip white space at the ends\n",
    "    text = re.sub(r\"http\\S+\", \"\", text)  # Remove links\n",
    "    \n",
    "    # Stemming\n",
    "    if stem:\n",
    "        text = \" \".join([stemmer.stem(word) for word in text.split(\" \")])\n",
    "    \n",
    "    return text"
   ]
  },
  {
   "cell_type": "code",
   "execution_count": 12,
   "metadata": {},
   "outputs": [],
   "source": [
    "data[\"comment\"] = data[\"comment\"].apply(clean_text, lower=True, stem=True)"
   ]
  },
  {
   "cell_type": "code",
   "execution_count": 13,
   "metadata": {},
   "outputs": [
    {
     "data": {
      "text/html": [
       "<div>\n",
       "<style scoped>\n",
       "    .dataframe tbody tr th:only-of-type {\n",
       "        vertical-align: middle;\n",
       "    }\n",
       "\n",
       "    .dataframe tbody tr th {\n",
       "        vertical-align: top;\n",
       "    }\n",
       "\n",
       "    .dataframe thead th {\n",
       "        text-align: right;\n",
       "    }\n",
       "</style>\n",
       "<table border=\"1\" class=\"dataframe\">\n",
       "  <thead>\n",
       "    <tr style=\"text-align: right;\">\n",
       "      <th></th>\n",
       "      <th>comment</th>\n",
       "      <th>toxic</th>\n",
       "    </tr>\n",
       "  </thead>\n",
       "  <tbody>\n",
       "    <tr>\n",
       "      <th>0</th>\n",
       "      <td>верблюд дебил бл</td>\n",
       "      <td>1.0</td>\n",
       "    </tr>\n",
       "    <tr>\n",
       "      <th>1</th>\n",
       "      <td>хохл эт отдушин затюкан россиянин мол вон хохл...</td>\n",
       "      <td>1.0</td>\n",
       "    </tr>\n",
       "    <tr>\n",
       "      <th>2</th>\n",
       "      <td>собак собач смерт</td>\n",
       "      <td>1.0</td>\n",
       "    </tr>\n",
       "    <tr>\n",
       "      <th>3</th>\n",
       "      <td>страниц обнов деб эт оскорблен доказа факт деб...</td>\n",
       "      <td>1.0</td>\n",
       "    </tr>\n",
       "    <tr>\n",
       "      <th>4</th>\n",
       "      <td>убед 6 страничн пдф скрипал отрав росс анализи...</td>\n",
       "      <td>1.0</td>\n",
       "    </tr>\n",
       "  </tbody>\n",
       "</table>\n",
       "</div>"
      ],
      "text/plain": [
       "                                             comment  toxic\n",
       "0                                   верблюд дебил бл    1.0\n",
       "1  хохл эт отдушин затюкан россиянин мол вон хохл...    1.0\n",
       "2                                  собак собач смерт    1.0\n",
       "3  страниц обнов деб эт оскорблен доказа факт деб...    1.0\n",
       "4  убед 6 страничн пдф скрипал отрав росс анализи...    1.0"
      ]
     },
     "execution_count": 13,
     "metadata": {},
     "output_type": "execute_result"
    }
   ],
   "source": [
    "data.head()"
   ]
  },
  {
   "cell_type": "code",
   "execution_count": 14,
   "metadata": {},
   "outputs": [],
   "source": [
    "X = data[\"comment\"].to_numpy()\n",
    "y = data[\"toxic\"].to_numpy()"
   ]
  },
  {
   "cell_type": "markdown",
   "metadata": {},
   "source": [
    "## Splitting data"
   ]
  },
  {
   "cell_type": "code",
   "execution_count": 15,
   "metadata": {},
   "outputs": [],
   "source": [
    "from sklearn.model_selection import train_test_split"
   ]
  },
  {
   "cell_type": "code",
   "execution_count": 16,
   "metadata": {},
   "outputs": [],
   "source": [
    "# split sizes\n",
    "train_size = 0.7\n",
    "val_size = 0.15\n",
    "test_size = 0.15"
   ]
  },
  {
   "cell_type": "code",
   "execution_count": 17,
   "metadata": {},
   "outputs": [],
   "source": [
    "X_train, X_, y_train, y_ = train_test_split(X, y, train_size=train_size, stratify=y)\n",
    "X_val, X_test, y_val, y_test = train_test_split(X_, y_, train_size=0.5, stratify=y_)"
   ]
  },
  {
   "cell_type": "code",
   "execution_count": 18,
   "metadata": {},
   "outputs": [
    {
     "name": "stdout",
     "output_type": "stream",
     "text": [
      "train shape: (10088,)\n",
      "val shape: (2162,)\n",
      "test shape: (2162,)\n"
     ]
    }
   ],
   "source": [
    "print(f\"train shape: {X_train.shape}\")\n",
    "print(f\"val shape: {X_val.shape}\")\n",
    "print(f\"test shape: {X_test.shape}\")"
   ]
  },
  {
   "cell_type": "code",
   "execution_count": 23,
   "metadata": {},
   "outputs": [],
   "source": [
    "df_train = pd.DataFrame({\"comment\": X_train, \"label\": y_train})\n",
    "df_val = pd.DataFrame({\"comment\": X_val, \"label\": y_val})\n",
    "df_test = pd.DataFrame({\"comment\": X_test, \"label\": y_test})"
   ]
  },
  {
   "cell_type": "markdown",
   "metadata": {},
   "source": [
    "## Modelling"
   ]
  },
  {
   "cell_type": "code",
   "execution_count": 95,
   "metadata": {},
   "outputs": [],
   "source": [
    "import random\n",
    "import numpy as np\n",
    "\n",
    "def set_seed(seed: int = 73) -> None:\n",
    "    \"\"\"Set seeds for reproducibility\"\"\"\n",
    "    np.random.seed(seed)\n",
    "    random.seed(seed)"
   ]
  },
  {
   "cell_type": "code",
   "execution_count": 34,
   "metadata": {},
   "outputs": [],
   "source": [
    "def preprocess(df: pd.DataFrame, lower: bool, stem: bool, preproc_col: str = \"comment\", ) -> pd.DataFrame:\n",
    "    \"\"\"Preprocess the data.\"\"\"\n",
    "    df[preproc_col] = df[preproc_col].apply(clean_text, lower=lower, stem=stem)  # clean text\n",
    "    \n",
    "    return df"
   ]
  },
  {
   "cell_type": "code",
   "execution_count": 35,
   "metadata": {},
   "outputs": [],
   "source": [
    "def get_data_splits(X, y, train_size=0.7):\n",
    "    \"\"\"Generate balanced data splits.\"\"\"\n",
    "    \n",
    "    X_train, X_, y_train, y_ = train_test_split(\n",
    "        X, y, train_size=train_size, stratify=y)\n",
    "    X_val, X_test, y_val, y_test = train_test_split(\n",
    "        X_, y_, train_size=0.5, stratify=y_)\n",
    "    return X_train, X_val, X_test, y_train, y_val, y_test"
   ]
  },
  {
   "cell_type": "markdown",
   "metadata": {},
   "source": [
    "### Baseline"
   ]
  },
  {
   "cell_type": "code",
   "execution_count": 36,
   "metadata": {},
   "outputs": [],
   "source": [
    "from sklearn.metrics import classification_report"
   ]
  },
  {
   "cell_type": "code",
   "execution_count": 37,
   "metadata": {},
   "outputs": [],
   "source": [
    "set_seed()\n",
    "df = pd.read_csv(\"../data/dataset.csv\")\n",
    "df = preprocess(df, lower=True, stem=False)\n",
    "X_train, X_val, X_test, y_train, y_val, y_test = get_data_splits(\n",
    "    X=df[\"comment\"].to_numpy(), \n",
    "    y=df[\"toxic\"].to_numpy(),\n",
    ")"
   ]
  },
  {
   "cell_type": "code",
   "execution_count": 46,
   "metadata": {},
   "outputs": [
    {
     "name": "stdout",
     "output_type": "stream",
     "text": [
      "(2162,)\n",
      "[1 1 0 1 1]\n"
     ]
    }
   ],
   "source": [
    "# Generate random predictions\n",
    "y_pred = np.random.randint(low=0, high=2, size=len(y_test))\n",
    "print (y_pred.shape)\n",
    "print (y_pred[0:5])"
   ]
  },
  {
   "cell_type": "code",
   "execution_count": 52,
   "metadata": {},
   "outputs": [
    {
     "name": "stdout",
     "output_type": "stream",
     "text": [
      "              precision    recall  f1-score   support\n",
      "\n",
      "         0.0       0.68      0.51      0.59      1438\n",
      "         1.0       0.35      0.53      0.43       724\n",
      "\n",
      "    accuracy                           0.52      2162\n",
      "   macro avg       0.52      0.52      0.51      2162\n",
      "weighted avg       0.57      0.52      0.53      2162\n",
      "\n"
     ]
    }
   ],
   "source": [
    "# Evaluate\n",
    "metrics = classification_report(y_test, y_pred)\n",
    "print(metrics)"
   ]
  },
  {
   "cell_type": "markdown",
   "metadata": {},
   "source": [
    "### Vectorization"
   ]
  },
  {
   "cell_type": "code",
   "execution_count": 54,
   "metadata": {},
   "outputs": [],
   "source": [
    "from sklearn.feature_extraction.text import TfidfVectorizer"
   ]
  },
  {
   "cell_type": "code",
   "execution_count": 55,
   "metadata": {},
   "outputs": [],
   "source": [
    "# Tf-idf\n",
    "vectorizer = TfidfVectorizer(analyzer=\"char\", ngram_range=(2,7))  # char n-grams\n",
    "X_train = vectorizer.fit_transform(X_train)\n",
    "X_val = vectorizer.transform(X_val)\n",
    "X_test = vectorizer.transform(X_test)"
   ]
  },
  {
   "cell_type": "code",
   "execution_count": 61,
   "metadata": {},
   "outputs": [
    {
     "name": "stdout",
     "output_type": "stream",
     "text": [
      "class counts: [6710 3378],\n",
      "class weights: {0: 0.00014903129657228018, 1: 0.0002960331557134399}\n"
     ]
    }
   ],
   "source": [
    "# Class weights\n",
    "counts = np.bincount(y_train.astype(int))\n",
    "class_weights = {i: 1.0/count for i, count in enumerate(counts)}\n",
    "print (f\"class counts: {counts},\\nclass weights: {class_weights}\")"
   ]
  },
  {
   "cell_type": "markdown",
   "metadata": {},
   "source": [
    "### Data Imbalanced"
   ]
  },
  {
   "cell_type": "code",
   "execution_count": 62,
   "metadata": {},
   "outputs": [],
   "source": [
    "from imblearn.over_sampling import RandomOverSampler\n",
    "\n",
    "oversampler = RandomOverSampler(sampling_strategy=\"all\")\n",
    "X_over, y_over = oversampler.fit_resample(X_train, y_train)"
   ]
  },
  {
   "cell_type": "code",
   "execution_count": 64,
   "metadata": {},
   "outputs": [
    {
     "name": "stdout",
     "output_type": "stream",
     "text": [
      "class counts: [6710 6710],\n",
      "class weights: {0: 0.00014903129657228018, 1: 0.00014903129657228018}\n"
     ]
    }
   ],
   "source": [
    "# Class weights\n",
    "counts = np.bincount(y_over.astype(int))\n",
    "class_weights = {i: 1.0/count for i, count in enumerate(counts)}\n",
    "print (f\"class counts: {counts},\\nclass weights: {class_weights}\")"
   ]
  },
  {
   "cell_type": "markdown",
   "metadata": {},
   "source": [
    "### Machine Learning"
   ]
  },
  {
   "cell_type": "code",
   "execution_count": 66,
   "metadata": {},
   "outputs": [],
   "source": [
    "from sklearn.linear_model import SGDClassifier\n",
    "from sklearn.metrics import log_loss, classification_report"
   ]
  },
  {
   "cell_type": "code",
   "execution_count": 70,
   "metadata": {},
   "outputs": [],
   "source": [
    "# Initialize model\n",
    "model = SGDClassifier(\n",
    "    loss=\"log\", penalty=\"l2\", alpha=1e-4, max_iter=100,\n",
    "    learning_rate=\"constant\", eta0=1e-1, power_t=0.1, \n",
    "    warm_start=True\n",
    ")"
   ]
  },
  {
   "cell_type": "code",
   "execution_count": 71,
   "metadata": {},
   "outputs": [
    {
     "name": "stdout",
     "output_type": "stream",
     "text": [
      "Epoch: 00 | train_loss: 0.33131, val_loss: 0.39699\n",
      "Epoch: 10 | train_loss: 0.32915, val_loss: 0.39605\n",
      "Epoch: 20 | train_loss: 0.33191, val_loss: 0.39845\n",
      "Epoch: 30 | train_loss: 0.32959, val_loss: 0.39641\n",
      "Epoch: 40 | train_loss: 0.32866, val_loss: 0.39566\n",
      "Epoch: 50 | train_loss: 0.33329, val_loss: 0.39966\n",
      "Epoch: 60 | train_loss: 0.32985, val_loss: 0.39666\n",
      "Epoch: 70 | train_loss: 0.33144, val_loss: 0.39803\n",
      "Epoch: 80 | train_loss: 0.33097, val_loss: 0.39762\n",
      "Epoch: 90 | train_loss: 0.32999, val_loss: 0.39679\n"
     ]
    }
   ],
   "source": [
    "# Train model\n",
    "num_epochs = 100\n",
    "for epoch in range(num_epochs):\n",
    "    # Training\n",
    "    model.fit(X_over, y_over)\n",
    "\n",
    "    # Evaluation\n",
    "    train_loss = log_loss(y_train, model.predict_proba(X_train))\n",
    "    val_loss = log_loss(y_val, model.predict_proba(X_val))\n",
    "\n",
    "    if not epoch%10:\n",
    "        print(\n",
    "            f\"Epoch: {epoch:02d} | \"\n",
    "            f\"train_loss: {train_loss:.5f}, \"\n",
    "            f\"val_loss: {val_loss:.5f}\"\n",
    "        )"
   ]
  },
  {
   "cell_type": "code",
   "execution_count": 79,
   "metadata": {},
   "outputs": [],
   "source": [
    "# Evaluate\n",
    "y_pred = model.predict(X_test)\n",
    "y_pred_prob = model.predict_proba(X_test)"
   ]
  },
  {
   "cell_type": "code",
   "execution_count": 80,
   "metadata": {},
   "outputs": [
    {
     "name": "stdout",
     "output_type": "stream",
     "text": [
      "              precision    recall  f1-score   support\n",
      "\n",
      "         0.0       0.92      0.90      0.91      1438\n",
      "         1.0       0.81      0.83      0.82       724\n",
      "\n",
      "    accuracy                           0.88      2162\n",
      "   macro avg       0.86      0.87      0.87      2162\n",
      "weighted avg       0.88      0.88      0.88      2162\n",
      "\n"
     ]
    }
   ],
   "source": [
    "metrics = classification_report(y_test, y_pred)\n",
    "print(metrics)"
   ]
  },
  {
   "cell_type": "code",
   "execution_count": 88,
   "metadata": {},
   "outputs": [
    {
     "data": {
      "text/plain": [
       "<sklearn.metrics._plot.precision_recall_curve.PrecisionRecallDisplay at 0x1755405b0>"
      ]
     },
     "execution_count": 88,
     "metadata": {},
     "output_type": "execute_result"
    },
    {
     "data": {
      "image/png": "[encoded data removed]",
      "text/plain": [
       "<Figure size 640x480 with 1 Axes>"
      ]
     },
     "metadata": {},
     "output_type": "display_data"
    }
   ],
   "source": [
    "from sklearn.metrics import plot_precision_recall_curve\n",
    "\n",
    "\n",
    "plot_precision_recall_curve(model, X_test, y_test)"
   ]
  },
  {
   "cell_type": "code",
   "execution_count": 90,
   "metadata": {},
   "outputs": [
    {
     "data": {
      "text/plain": [
       "<AxesSubplot:>"
      ]
     },
     "execution_count": 90,
     "metadata": {},
     "output_type": "execute_result"
    },
    {
     "data": {
      "image/png": "[encoded data removed]",
      "text/plain": [
       "<Figure size 640x480 with 2 Axes>"
      ]
     },
     "metadata": {},
     "output_type": "display_data"
    }
   ],
   "source": [
    "from sklearn.metrics import confusion_matrix\n",
    "\n",
    "sns.heatmap(confusion_matrix(y_test, y_pred))"
   ]
  },
  {
   "cell_type": "markdown",
   "metadata": {},
   "source": [
    "### Base pipeline"
   ]
  },
  {
   "cell_type": "code",
   "execution_count": 91,
   "metadata": {},
   "outputs": [],
   "source": [
    "from sklearn.pipeline import Pipeline\n",
    "\n",
    "base_pipe = Pipeline([\n",
    "    (\"vec\", TfidfVectorizer(analyzer=\"char\", ngram_range=(2,7))),\n",
    "    (\"clf\", SGDClassifier(\n",
    "        loss=\"log\", penalty=\"l2\", alpha=1e-4, max_iter=100,\n",
    "        learning_rate=\"constant\", eta0=1e-1, power_t=0.1, \n",
    "        warm_start=True),\n",
    "    ),\n",
    "])"
   ]
  },
  {
   "cell_type": "markdown",
   "metadata": {},
   "source": [
    "### Experiment Tracking"
   ]
  },
  {
   "cell_type": "code",
   "execution_count": 96,
   "metadata": {},
   "outputs": [],
   "source": [
    "from argparse import Namespace\n",
    "import mlflow\n",
    "from pathlib import Path\n",
    "import optuna"
   ]
  },
  {
   "cell_type": "code",
   "execution_count": 93,
   "metadata": {},
   "outputs": [],
   "source": [
    "# Specify arguments\n",
    "args = Namespace(\n",
    "    lower=True,\n",
    "    stem=False,\n",
    "    analyzer=\"char\",\n",
    "    ngram_max_range=7,\n",
    "    alpha=1e-4,\n",
    "    learning_rate=1e-1,\n",
    "    power_t=0.1,\n",
    "    num_epochs=100\n",
    ")"
   ]
  },
  {
   "cell_type": "code",
   "execution_count": 94,
   "metadata": {},
   "outputs": [],
   "source": [
    "# Set tracking URI\n",
    "MODEL_REGISTRY = Path(\"experiments\")\n",
    "Path(MODEL_REGISTRY).mkdir(exist_ok=True) # create experiments dir\n",
    "mlflow.set_tracking_uri(\"file://\" + str(MODEL_REGISTRY.absolute()))"
   ]
  },
  {
   "cell_type": "markdown",
   "metadata": {},
   "source": [
    "##### Trining"
   ]
  },
  {
   "cell_type": "code",
   "execution_count": 110,
   "metadata": {},
   "outputs": [],
   "source": [
    "from sklearn.metrics import precision_recall_fscore_support\n",
    "import json\n",
    "\n",
    "def train(args, df, trial=None):\n",
    "    \"\"\"Train model on data.\"\"\"\n",
    "\n",
    "    # Setup\n",
    "    set_seed()\n",
    "    df = pd.read_csv(\"../data/dataset.csv\")\n",
    "    df = df.sample(frac=1).reset_index(drop=True)\n",
    "    df = preprocess(df, lower=True, stem=False)\n",
    "    X_train, X_val, X_test, y_train, y_val, y_test = get_data_splits(\n",
    "        X=df[\"comment\"].to_numpy(), \n",
    "        y=df[\"toxic\"].to_numpy(),\n",
    "    )\n",
    "\n",
    "    # Tf-idf\n",
    "    vectorizer = TfidfVectorizer(analyzer=args.analyzer, ngram_range=(2,args.ngram_max_range))  # char n-grams\n",
    "    X_train = vectorizer.fit_transform(X_train)\n",
    "    X_val = vectorizer.transform(X_val)\n",
    "    X_test = vectorizer.transform(X_test)\n",
    "\n",
    "    # Oversample\n",
    "    oversample = RandomOverSampler(sampling_strategy=\"all\")\n",
    "    X_over, y_over = oversample.fit_resample(X_train, y_train)\n",
    "\n",
    "    # Model\n",
    "    model = SGDClassifier(\n",
    "        loss=\"log\", penalty=\"l2\", alpha=args.alpha, max_iter=100,\n",
    "        learning_rate=\"constant\", eta0=args.learning_rate, power_t=args.power_t, \n",
    "        warm_start=True\n",
    "    )\n",
    "\n",
    "    # Training\n",
    "    for epoch in range(args.num_epochs):\n",
    "        model.fit(X_over, y_over)\n",
    "        train_loss = log_loss(y_train, model.predict_proba(X_train))\n",
    "        val_loss = log_loss(y_val, model.predict_proba(X_val))\n",
    "        if not epoch%10:\n",
    "            print(\n",
    "                f\"Epoch: {epoch:02d} | \"\n",
    "                f\"train_loss: {train_loss:.5f}, \"\n",
    "                f\"val_loss: {val_loss:.5f}\"\n",
    "            )\n",
    "\n",
    "        # Log\n",
    "        if not trial:\n",
    "            mlflow.log_metrics({\"train_loss\": train_loss, \"val_loss\": val_loss}, step=epoch)\n",
    "\n",
    "        # Pruning (for optimization in next section)\n",
    "        if trial:\n",
    "            trial.report(val_loss, epoch)\n",
    "            if trial.should_prune():\n",
    "                raise optuna.TrialPruned()\n",
    "\n",
    "    # Evaluation\n",
    "    y_pred = model.predict(X_test)\n",
    "    metrics = precision_recall_fscore_support(y_test, y_pred, average=\"weighted\")\n",
    "    performance = {\"precision\": metrics[0], \"recall\": metrics[1], \"f1\": metrics[2]}\n",
    "    print(json.dumps(performance, indent=2))\n",
    "\n",
    "    return {\n",
    "        \"args\": args,\n",
    "        \"vectorizer\": vectorizer,\n",
    "        \"model\": model,\n",
    "        \"performance\": performance\n",
    "    }"
   ]
  },
  {
   "cell_type": "markdown",
   "metadata": {},
   "source": [
    "##### Tracking"
   ]
  },
  {
   "cell_type": "code",
   "execution_count": 104,
   "metadata": {},
   "outputs": [],
   "source": [
    "import joblib\n",
    "import tempfile"
   ]
  },
  {
   "cell_type": "code",
   "execution_count": 105,
   "metadata": {},
   "outputs": [
    {
     "data": {
      "text/plain": [
       "<Experiment: artifact_location='file:///Users/pavelkockin/main/github/russian-toxic-classification/notebooks/experiments/0', creation_time=1665607472200, experiment_id='0', last_update_time=1665607472200, lifecycle_stage='active', name='baselines', tags={}>"
      ]
     },
     "execution_count": 105,
     "metadata": {},
     "output_type": "execute_result"
    }
   ],
   "source": [
    "# Set experiment\n",
    "mlflow.set_experiment(experiment_name=\"baselines\")"
   ]
  },
  {
   "cell_type": "code",
   "execution_count": 106,
   "metadata": {},
   "outputs": [],
   "source": [
    "def save_dict(d, filepath):\n",
    "    \"\"\"Save dict to a json file.\"\"\"\n",
    "    with open(filepath, \"w\") as fp:\n",
    "        json.dump(d, indent=2, sort_keys=False, fp=fp)"
   ]
  },
  {
   "cell_type": "code",
   "execution_count": 111,
   "metadata": {},
   "outputs": [
    {
     "name": "stdout",
     "output_type": "stream",
     "text": [
      "Epoch: 00 | train_loss: 0.33469, val_loss: 0.40684\n",
      "Epoch: 10 | train_loss: 0.32785, val_loss: 0.40156\n",
      "Epoch: 20 | train_loss: 0.32868, val_loss: 0.40232\n",
      "Epoch: 30 | train_loss: 0.32860, val_loss: 0.40223\n",
      "Epoch: 40 | train_loss: 0.33076, val_loss: 0.40425\n",
      "Epoch: 50 | train_loss: 0.33006, val_loss: 0.40360\n",
      "Epoch: 60 | train_loss: 0.33108, val_loss: 0.40461\n",
      "Epoch: 70 | train_loss: 0.33272, val_loss: 0.40616\n",
      "Epoch: 80 | train_loss: 0.32899, val_loss: 0.40260\n",
      "Epoch: 90 | train_loss: 0.32759, val_loss: 0.40130\n",
      "{\n",
      "  \"precision\": 0.8770514810334724,\n",
      "  \"recall\": 0.8769657724329325,\n",
      "  \"f1\": 0.8770078142201942\n",
      "}\n"
     ]
    }
   ],
   "source": [
    "# Tracking\n",
    "with mlflow.start_run(run_name=\"sgd\"):\n",
    "\n",
    "    # Train & evaluate\n",
    "    artifacts = train(args=args, df=df)\n",
    "\n",
    "    # Log key metrics\n",
    "    mlflow.log_metrics({\"precision\": artifacts[\"performance\"][\"precision\"]})\n",
    "    mlflow.log_metrics({\"recall\": artifacts[\"performance\"][\"recall\"]})\n",
    "    mlflow.log_metrics({\"f1\": artifacts[\"performance\"][\"f1\"]})\n",
    "\n",
    "    # Log artifacts\n",
    "    with tempfile.TemporaryDirectory() as dp:\n",
    "        joblib.dump(artifacts[\"vectorizer\"], Path(dp, \"vectorizer.pkl\"))\n",
    "        joblib.dump(artifacts[\"model\"], Path(dp, \"model.pkl\"))\n",
    "        save_dict(artifacts[\"performance\"], Path(dp, \"performance.json\"))\n",
    "        mlflow.log_artifacts(dp)\n",
    "\n",
    "    # Log parameters\n",
    "    mlflow.log_params(vars(artifacts[\"args\"]))"
   ]
  },
  {
   "cell_type": "markdown",
   "metadata": {},
   "source": [
    "##### Loading for retraining"
   ]
  },
  {
   "cell_type": "code",
   "execution_count": 112,
   "metadata": {},
   "outputs": [],
   "source": [
    "def load_dict(filepath):\n",
    "    \"\"\"Load a dict from a json file.\"\"\"\n",
    "    with open(filepath, \"r\") as fp:\n",
    "        d = json.load(fp)\n",
    "    return d"
   ]
  },
  {
   "cell_type": "code",
   "execution_count": 113,
   "metadata": {},
   "outputs": [
    {
     "name": "stdout",
     "output_type": "stream",
     "text": [
      "                             run_id experiment_id    status  \\\n",
      "0  d9a779197c744ebc90ab2adea803dcb7             0  FINISHED   \n",
      "1  77134de52471465280b715a2fec44790             0    FAILED   \n",
      "2  e8dd1e5db4ad43bda6f0aec6bf9e58cc             0    FAILED   \n",
      "3  77a58c0755b1435aaa4eac23fff326ff             0    FAILED   \n",
      "4  2544b4e758ea471db580b908b8d34f2c             0    FAILED   \n",
      "\n",
      "                                        artifact_uri  \\\n",
      "0  file:///Users/pavelkockin/main/github/russian-...   \n",
      "1  file:///Users/pavelkockin/main/github/russian-...   \n",
      "2  file:///Users/pavelkockin/main/github/russian-...   \n",
      "3  file:///Users/pavelkockin/main/github/russian-...   \n",
      "4  file:///Users/pavelkockin/main/github/russian-...   \n",
      "\n",
      "                        start_time                         end_time  \\\n",
      "0 2022-10-12 20:47:32.004000+00:00 2022-10-12 20:48:05.606000+00:00   \n",
      "1 2022-10-12 20:46:15.436000+00:00 2022-10-12 20:46:45.607000+00:00   \n",
      "2 2022-10-12 20:46:03.901000+00:00 2022-10-12 20:46:03.905000+00:00   \n",
      "3 2022-10-12 20:45:37.682000+00:00 2022-10-12 20:45:37.686000+00:00   \n",
      "4 2022-10-12 20:45:31.039000+00:00 2022-10-12 20:45:31.044000+00:00   \n",
      "\n",
      "   metrics.f1  metrics.train_loss  metrics.recall  metrics.val_loss  ...  \\\n",
      "0    0.877008            0.332026        0.876966          0.405478  ...   \n",
      "1         NaN            0.332026             NaN          0.405478  ...   \n",
      "2         NaN                 NaN             NaN               NaN  ...   \n",
      "3         NaN                 NaN             NaN               NaN  ...   \n",
      "4         NaN                 NaN             NaN               NaN  ...   \n",
      "\n",
      "   params.lower params.learning_rate params.power_t params.num_epochs  \\\n",
      "0          True                  0.1            0.1               100   \n",
      "1          None                 None           None              None   \n",
      "2          None                 None           None              None   \n",
      "3          None                 None           None              None   \n",
      "4          None                 None           None              None   \n",
      "\n",
      "  params.analyzer tags.mlflow.user tags.mlflow.source.type  \\\n",
      "0            char      pavelkockin                   LOCAL   \n",
      "1            None      pavelkockin                   LOCAL   \n",
      "2            None      pavelkockin                   LOCAL   \n",
      "3            None      pavelkockin                   LOCAL   \n",
      "4            None      pavelkockin                   LOCAL   \n",
      "\n",
      "                             tags.mlflow.source.name  \\\n",
      "0  /opt/homebrew/Caskroom/miniforge/base/envs/ml_...   \n",
      "1  /opt/homebrew/Caskroom/miniforge/base/envs/ml_...   \n",
      "2  /opt/homebrew/Caskroom/miniforge/base/envs/ml_...   \n",
      "3  /opt/homebrew/Caskroom/miniforge/base/envs/ml_...   \n",
      "4  /opt/homebrew/Caskroom/miniforge/base/envs/ml_...   \n",
      "\n",
      "              tags.mlflow.source.git.commit tags.mlflow.runName  \n",
      "0  3748bed378401ed75abdf32bcb3d2674d854a6f9                 sgd  \n",
      "1  3748bed378401ed75abdf32bcb3d2674d854a6f9                 sgd  \n",
      "2  3748bed378401ed75abdf32bcb3d2674d854a6f9                 sgd  \n",
      "3  3748bed378401ed75abdf32bcb3d2674d854a6f9                 sgd  \n",
      "4  3748bed378401ed75abdf32bcb3d2674d854a6f9                 sgd  \n",
      "\n",
      "[5 rows x 24 columns]\n"
     ]
    }
   ],
   "source": [
    "# Load all runs from experiment\n",
    "experiment_id = mlflow.get_experiment_by_name(\"baselines\").experiment_id\n",
    "all_runs = mlflow.search_runs(experiment_ids=experiment_id, order_by=[\"metrics.val_loss ASC\"])\n",
    "print (all_runs)"
   ]
  },
  {
   "cell_type": "code",
   "execution_count": 114,
   "metadata": {},
   "outputs": [],
   "source": [
    "# Best run\n",
    "best_run_id = all_runs.iloc[0].run_id\n",
    "best_run = mlflow.get_run(run_id=best_run_id)\n",
    "client = mlflow.tracking.MlflowClient()\n",
    "with tempfile.TemporaryDirectory() as dp:\n",
    "    client.download_artifacts(run_id=best_run_id, path=\"\", dst_path=dp)\n",
    "    vectorizer = joblib.load(Path(dp, \"vectorizer.pkl\"))\n",
    "    model = joblib.load(Path(dp, \"model.pkl\"))\n",
    "    performance = load_dict(filepath=Path(dp, \"performance.json\"))"
   ]
  },
  {
   "cell_type": "code",
   "execution_count": 115,
   "metadata": {},
   "outputs": [
    {
     "name": "stdout",
     "output_type": "stream",
     "text": [
      "{\n",
      "  \"precision\": 0.8770514810334724,\n",
      "  \"recall\": 0.8769657724329325,\n",
      "  \"f1\": 0.8770078142201942\n",
      "}\n"
     ]
    }
   ],
   "source": [
    "print (json.dumps(performance, indent=2))"
   ]
  },
  {
   "cell_type": "code",
   "execution_count": 121,
   "metadata": {},
   "outputs": [
    {
     "data": {
      "text/plain": [
       "array([1.])"
      ]
     },
     "execution_count": 121,
     "metadata": {},
     "output_type": "execute_result"
    }
   ],
   "source": [
    "# Inference\n",
    "text = \"Ты кто такой?\"\n",
    "text = clean_text(text)\n",
    "vec = vectorizer.transform([text])\n",
    "model.predict(vec)"
   ]
  },
  {
   "cell_type": "markdown",
   "metadata": {},
   "source": [
    "### Optimization"
   ]
  },
  {
   "cell_type": "code",
   "execution_count": 122,
   "metadata": {},
   "outputs": [],
   "source": [
    "def objective(args, trial):\n",
    "    \"\"\"Objective function for optimization trials.\"\"\"\n",
    "    # Parameters to tune\n",
    "    args.analyzer = trial.suggest_categorical(\"analyzer\", [\"word\", \"char\", \"char_wb\"])\n",
    "    args.ngram_max_range = trial.suggest_int(\"ngram_max_range\", 3, 10)\n",
    "    args.learning_rate = trial.suggest_loguniform(\"learning_rate\", 1e-2, 1e0)\n",
    "    args.power_t = trial.suggest_uniform(\"power_t\", 0.1, 0.5)\n",
    "\n",
    "    # Train & evaluate\n",
    "    artifacts = train(args=args, df=df, trial=trial)\n",
    "\n",
    "    # Set additional attributes\n",
    "    performance = artifacts[\"performance\"]\n",
    "    print(json.dumps(performance, indent=2))\n",
    "    trial.set_user_attr(\"precision\", performance[\"precision\"])\n",
    "    trial.set_user_attr(\"recall\", performance[\"recall\"])\n",
    "    trial.set_user_attr(\"f1\", performance[\"f1\"])\n",
    "\n",
    "    return performance[\"f1\"]"
   ]
  },
  {
   "cell_type": "code",
   "execution_count": 126,
   "metadata": {},
   "outputs": [],
   "source": [
    "# from numpyencoder import NumpyEncoder\n",
    "from optuna.integration.mlflow import MLflowCallback"
   ]
  },
  {
   "cell_type": "code",
   "execution_count": 127,
   "metadata": {},
   "outputs": [],
   "source": [
    "NUM_TRIALS = 20  # small sample for now"
   ]
  },
  {
   "cell_type": "code",
   "execution_count": null,
   "metadata": {},
   "outputs": [],
   "source": [
    "# Optimize\n",
    "pruner = optuna.pruners.MedianPruner(n_startup_trials=5, n_warmup_steps=5)\n",
    "study = optuna.create_study(study_name=\"optimization\", direction=\"maximize\", pruner=pruner)\n",
    "\n",
    "mlflow_callback = MLflowCallback(\n",
    "    tracking_uri=mlflow.get_tracking_uri(), \n",
    "    metric_name=\"f1\"\n",
    ")\n",
    "\n",
    "study.optimize(\n",
    "    lambda trial: objective(args, trial),\n",
    "    n_trials=NUM_TRIALS,\n",
    "    callbacks=[mlflow_callback]\n",
    ")"
   ]
  },
  {
   "cell_type": "code",
   "execution_count": 129,
   "metadata": {},
   "outputs": [
    {
     "name": "stdout",
     "output_type": "stream",
     "text": [
      "Best value (f1): 0.8913066234496378\n",
      "Best hyperparameters: {\n",
      "  \"analyzer\": \"char_wb\",\n",
      "  \"ngram_max_range\": 7,\n",
      "  \"learning_rate\": 0.06127088055877166,\n",
      "  \"power_t\": 0.30272621118441834\n",
      "}\n"
     ]
    }
   ],
   "source": [
    "# Best trial\n",
    "print (f\"Best value (f1): {study.best_trial.value}\")\n",
    "print (f\"Best hyperparameters: {json.dumps(study.best_trial.params, indent=2)}\")"
   ]
  }
 ],
 "metadata": {
  "kernelspec": {
   "display_name": "Python 3.8.12 ('ml_env')",
   "language": "python",
   "name": "python3"
  },
  "language_info": {
   "codemirror_mode": {
    "name": "ipython",
    "version": 3
   },
   "file_extension": ".py",
   "mimetype": "text/x-python",
   "name": "python",
   "nbconvert_exporter": "python",
   "pygments_lexer": "ipython3",
   "version": "3.8.12"
  },
  "orig_nbformat": 4,
  "vscode": {
   "interpreter": {
    "hash": "d8f5a8577b8cf413169496226e4485bf91d05ebdcdf9e1588db361085a732ed9"
   }
  }
 },
 "nbformat": 4,
 "nbformat_minor": 2
}
